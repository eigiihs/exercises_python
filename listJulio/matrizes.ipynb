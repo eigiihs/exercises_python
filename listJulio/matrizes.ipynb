{
 "cells": [
  {
   "cell_type": "markdown",
   "metadata": {},
   "source": [
    "### Lista de Exercícios de Matriz"
   ]
  },
  {
   "cell_type": "code",
   "execution_count": 1,
   "metadata": {},
   "outputs": [],
   "source": [
    "import numpy as np"
   ]
  },
  {
   "cell_type": "markdown",
   "metadata": {},
   "source": [
    "1. Ler uma matriz M 5 x 5, calcular e escrever as seguintes somas:\n",
    "- a) da linha 3 de M\n",
    "- b) da coluna 2 de M\n",
    "- c) da diagonal principal\n",
    "- d) da diagonal secundária\n",
    "- e) de todos os elementos da matriz"
   ]
  },
  {
   "cell_type": "code",
   "execution_count": 15,
   "metadata": {},
   "outputs": [
    {
     "name": "stdout",
     "output_type": "stream",
     "text": [
      "Soma da linha 3: 200\n",
      "Soma da coluna 2: 173\n",
      "Soma da diagonal principal: 63\n",
      "Soma da diagonal secundária: 136\n",
      "Soma de todos os elementos da matriz: 623\n"
     ]
    }
   ],
   "source": [
    "matriz = np.array([\n",
    "    [21, 3, 45, 11, 7],\n",
    "    [6, 23, 12, 36, 8],\n",
    "    [43, 22, 5, 76, 54],\n",
    "    [3, 87, 9, 10, 20],\n",
    "    [1, 38, 52, 27, 4]\n",
    "])\n",
    "\n",
    "# a) linha\n",
    "line = 3\n",
    "sum_line = np.sum(matriz[line - 1])\n",
    "print(f'Soma da linha {line}: {sum_line}')\n",
    "\n",
    "# b) coluna\n",
    "column = 2\n",
    "sum_column = np.sum(matriz[:, column - 1]) # ':' -> todas as linhas \n",
    "print(f'Soma da coluna {column}: {sum_column}')\n",
    "\n",
    "# c) diagonal principal\n",
    "# 'np.diagonal' -> função do numpy que retorna a diagonal principal de uma matriz\n",
    "# 'np.fliplr' -> função do numpy que inverte a matriz da esquerda para a direita, fazendo com que a diagonal secundária\n",
    "    # se torne a diagonal principal\n",
    "sum_diagonal_principal = np.sum(np.diagonal(matriz))\n",
    "print(f'Soma da diagonal principal: {sum_diagonal_principal}')\n",
    "\n",
    "# d) diagonal secundária\n",
    "# utilizando loop for:\n",
    "sum_diagonal_secundaria = 0\n",
    "qtd_lines = 5\n",
    "last_index = qtd_lines - 1\n",
    "for i in range(qtd_lines):\n",
    "    sum_diagonal_secundaria += matriz[i, last_index - i]\n",
    "print(f'Soma da diagonal secundária: {sum_diagonal_secundaria}')\n",
    "\n",
    "# e) todos elementos\n",
    "sum_all_elements = np.sum(matriz)\n",
    "print(f'Soma de todos os elementos da matriz: {sum_all_elements}')"
   ]
  },
  {
   "cell_type": "markdown",
   "metadata": {},
   "source": [
    "2. Ler 2 matrizes, A 4 x 6 e B 4 x 6 e criar:\n",
    "- a) uma matriz S que seja a soma de A e B.\n",
    "- b) uma matriz D que seja a diferença de A e B. (A – B).\n",
    "\n",
    "    Escrever as matrizes S e D após todo cálculo estar concluído."
   ]
  },
  {
   "cell_type": "code",
   "execution_count": null,
   "metadata": {},
   "outputs": [
    {
     "name": "stdout",
     "output_type": "stream",
     "text": [
      "Matriz S: \n",
      "[[ 3  6  9 12 15 18]\n",
      " [21 24 27 30 33 36]\n",
      " [39 42 45 48 51 54]\n",
      " [57 60 63 66 69 72]]\n",
      "Matriz D: \n",
      "[[ -1.  -2.  -3.  -4.  -5.  -6.]\n",
      " [ -7.  -8.  -9. -10. -11. -12.]\n",
      " [-13. -14. -15. -16. -17. -18.]\n",
      " [-19. -20. -21. -22. -23. -24.]]\n"
     ]
    }
   ],
   "source": [
    "matriz_a = np.array([\n",
    "    [1, 2, 3, 4, 5, 6],\n",
    "    [7, 8, 9, 10, 11, 12],\n",
    "    [13, 14, 15, 16, 17, 18],\n",
    "    [19, 20, 21, 22, 23, 24]\n",
    "])\n",
    "\n",
    "matriz_b = np.array([\n",
    "    [2, 4, 6, 8, 10, 12],\n",
    "    [14, 16, 18, 20, 22, 24],\n",
    "    [26, 28, 30, 32, 34, 36],\n",
    "    [38, 40, 42, 44, 46, 48]\n",
    "])\n",
    "\n",
    "matriz_s = matriz_a + matriz_b\n",
    "print(f'Matriz S: \\n{matriz_s}')\n",
    "\n",
    "# usando for:\n",
    "matriz_d = np.zeros((4,6))\n",
    "for i in range(matriz_d.shape[0]): # acessando a linha\n",
    "    for j in range(matriz_d.shape[1]): # acessando a coluna\n",
    "        matriz_d[i][j] = matriz_a[i][j] - matriz_b[i][j]\n",
    "\n",
    "print(f'Matriz D: \\n{matriz_d}')"
   ]
  },
  {
   "cell_type": "markdown",
   "metadata": {},
   "source": [
    "3. Ler uma matriz A de 4 x 4, calcular e escrever as somas dos elementos marcados com o X. Utilizar estruturas de repetição.\n",
    " \n",
    "    [x, x, -, -]  \n",
    "    [x, x, -, -]  \n",
    "    [-, -, -, -]  \n",
    "    [-, -, -, -] \n",
    "\n",
    "    [-, -, -, -]  \n",
    "    [-, -, -, -]  \n",
    "    [-, -, x, x]  \n",
    "    [-, -, x, x]  \n",
    "\n",
    "    [x, -, -, -]  \n",
    "    [x, x, -, -]  \n",
    "    [x, x, x, -]  \n",
    "    [x, x, x, x]\n",
    "\n",
    "    [-, x, x, x]  \n",
    "    [-, -, x, x]  \n",
    "    [-, -, -, x]  \n",
    "    [-, -, -, -]    "
   ]
  },
  {
   "cell_type": "code",
   "execution_count": 8,
   "metadata": {},
   "outputs": [
    {
     "name": "stdout",
     "output_type": "stream",
     "text": [
      "Matriz: \n",
      "[[59. 26. 73. 43.]\n",
      " [89. 17. 56. 85.]\n",
      " [62. 22. 61. 97.]\n",
      " [99. 49. 69. 60.]]\n",
      "Primeira soma: 191.0\n",
      "Segunda soma: 287.0\n",
      "Terceira soma: 587.0\n",
      "Quarta soma: 380.0\n"
     ]
    }
   ],
   "source": [
    "entry = input('Digite os 16 valores para uma matriz (4x4), separados por espaço: ')\n",
    "values = list(map(float, entry.split()))\n",
    "\n",
    "if len(values) != 16:\n",
    "    print('Insira exatamente 16 valores para a matriz!')\n",
    "else:\n",
    "    matriz = np.array(values).reshape(4,4)\n",
    "    sum_1 = 0\n",
    "    sum_2 = 0\n",
    "    sum_3 = 0\n",
    "    sum_4 = 0\n",
    "\n",
    "    print(f'Matriz: \\n{matriz}')\n",
    "\n",
    "    for i in range(2): # duas primeiras linhas\n",
    "        for j in range(2): # duas primeiras colunas\n",
    "            sum_1 += matriz[i,j]\n",
    "\n",
    "    print(f'Primeira soma: {sum_1}')\n",
    "\n",
    "    for i in range(2,4): # duas últimas linhas\n",
    "        for j in range(2,4): # duas últimas colunas\n",
    "            sum_2 += matriz[i,j]\n",
    "\n",
    "    print(f'Segunda soma: {sum_2}')\n",
    "\n",
    "    for i in range(4): # percorrendo todas as linhas\n",
    "        for j in range(i + 1): # percorrendo a quantidade de colunas de acordo com i + 1 (ex: i = 0, j = 1 (apenas a primeira coluna))\n",
    "            sum_3 += matriz[i,j]\n",
    "\n",
    "    print(f'Terceira soma: {sum_3}')    \n",
    "\n",
    "    for i in range(4): # percorrendo todas as linhas\n",
    "        for j in range(i+1, 4): # percorrendo todas as colunas a partir de i+1 (ex: na coluna 0 quero os valores apartir da coluna 1) \n",
    "            sum_4 += matriz[i, j]\n",
    "\n",
    "    print(f'Quarta soma: {sum_4}')"
   ]
  },
  {
   "cell_type": "markdown",
   "metadata": {},
   "source": [
    "4. Ler uma matriz D 5 x 5 (considere que não serão informados valores duplicados). A seguir ler um número X e escreva uma mensagem indicando se o valor de X existe ou NÃO na matriz."
   ]
  },
  {
   "cell_type": "code",
   "execution_count": 16,
   "metadata": {},
   "outputs": [
    {
     "name": "stdout",
     "output_type": "stream",
     "text": [
      "O valor 90 não existe na matriz!\n"
     ]
    }
   ],
   "source": [
    "matriz = np.array([\n",
    "    [1, 2, 3, 4, 5],\n",
    "    [6, 7, 8, 9, 10],\n",
    "    [11, 12, 13, 14, 15],\n",
    "    [16, 17, 18, 19, 20],\n",
    "    [21, 22, 23, 24, 25]\n",
    "])\n",
    "\n",
    "num = int(input('Informe um número: '))\n",
    "exist = False\n",
    "\n",
    "for i in range(matriz.shape[0]):\n",
    "    for j in range(matriz.shape[1]):\n",
    "        if num == matriz[i,j]:\n",
    "            exist = True\n",
    "            print(f'O valor {num} existe na matriz!')\n",
    "            break\n",
    "\n",
    "if exist == False:\n",
    "    print(f'O valor {num} não existe na matriz!')"
   ]
  },
  {
   "cell_type": "markdown",
   "metadata": {},
   "source": [
    "5. Ler uma matriz G 5 x 5 e criar 2 vetores SL e SC de 5 elementos que contenham respectivamente as somas das linhas e das colunas de G. Escrever os vetores criados."
   ]
  },
  {
   "cell_type": "code",
   "execution_count": 17,
   "metadata": {},
   "outputs": [
    {
     "name": "stdout",
     "output_type": "stream",
     "text": [
      "Matriz: \n",
      "[[ 2  4  6  8 10]\n",
      " [12 14 16 18 20]\n",
      " [22 24 26 28 30]\n",
      " [32 34 36 38 40]\n",
      " [42 44 46 48 50]]\n",
      "--------------------\n",
      "Soma das linhas: [30, 80, 130, 180, 230]\n",
      "Soma das colunas: [110, 120, 130, 140, 150]\n"
     ]
    }
   ],
   "source": [
    "matriz = np.array([\n",
    "    [2, 4, 6, 8, 10],\n",
    "    [12, 14, 16, 18, 20],\n",
    "    [22, 24, 26, 28, 30],\n",
    "    [32, 34, 36, 38, 40],\n",
    "    [42, 44, 46, 48, 50]\n",
    "])\n",
    "\n",
    "sl = []\n",
    "sc = []\n",
    "\n",
    "for i in range(matriz.shape[0]):\n",
    "    sum_l = np.sum(matriz[i])\n",
    "    sl.append(sum_l)\n",
    "    \n",
    "for j in range(matriz.shape[1]):\n",
    "    sum_c = np.sum(matriz[:, j]) # acessando todas as linhas e pegando a coluna j\n",
    "    sc.append(sum_c)\n",
    "    \n",
    "print(f'Matriz: \\n{matriz}\\n{\"-\" * 20}')\n",
    "print(f'Soma das linhas: {sl}')\n",
    "print(f'Soma das colunas: {sc}')"
   ]
  },
  {
   "cell_type": "markdown",
   "metadata": {},
   "source": [
    "6. Ler uma matriz A 12 x 13 e divida todos os 13 elementos de cada uma das 12 linhas de A pelo valor do maior elemento daquela linha. Escrever a matriz A modificada."
   ]
  },
  {
   "cell_type": "code",
   "execution_count": 31,
   "metadata": {},
   "outputs": [
    {
     "name": "stdout",
     "output_type": "stream",
     "text": [
      "Matriz Original: \n",
      "[[15.  2. 24. 54. 20. 50. 31. 61. 27. 53. 75. 76. 72.]\n",
      " [91. 62. 91. 95. 36. 61. 19. 31. 17. 25. 40. 19. 95.]\n",
      " [85. 53.  2. 49. 60. 81. 70. 78. 92. 18. 46. 41. 14.]\n",
      " [69. 49. 77. 22.  4. 45. 59.  6. 61. 28. 90. 28. 53.]\n",
      " [57. 22. 34. 36. 60. 25.  7. 19. 18.  2. 88. 17. 22.]\n",
      " [58. 56. 38. 80. 33. 17.  2.  9. 89. 17. 37. 78. 99.]\n",
      " [20. 13. 80. 62.  6. 66. 70. 37. 20. 54. 92. 61. 11.]\n",
      " [ 3. 75. 20.  3. 76. 66. 42. 11. 86. 72. 74. 62. 99.]\n",
      " [16. 75. 97. 54. 79. 64. 90. 95.  6. 26.  8. 84. 36.]\n",
      " [72. 37. 76. 33. 81. 74. 38. 35. 93. 90. 77. 15. 97.]\n",
      " [13. 97. 68. 13. 78. 29. 63.  3. 27. 90. 49. 10. 12.]\n",
      " [34. 50. 69.  2. 20. 89. 74. 78. 57. 85. 63. 30. 63.]]\n",
      "--------------------\n",
      "Matriz Modificada: \n",
      "[[0.19736842 0.02631579 0.31578947 0.71052632 0.26315789 0.65789474\n",
      "  0.40789474 0.80263158 0.35526316 0.69736842 0.98684211 1.\n",
      "  0.94736842]\n",
      " [0.95789474 0.65263158 0.95789474 1.         0.37894737 0.64210526\n",
      "  0.2        0.32631579 0.17894737 0.26315789 0.42105263 0.2\n",
      "  1.        ]\n",
      " [0.92391304 0.57608696 0.02173913 0.5326087  0.65217391 0.88043478\n",
      "  0.76086957 0.84782609 1.         0.19565217 0.5        0.44565217\n",
      "  0.15217391]\n",
      " [0.76666667 0.54444444 0.85555556 0.24444444 0.04444444 0.5\n",
      "  0.65555556 0.06666667 0.67777778 0.31111111 1.         0.31111111\n",
      "  0.58888889]\n",
      " [0.64772727 0.25       0.38636364 0.40909091 0.68181818 0.28409091\n",
      "  0.07954545 0.21590909 0.20454545 0.02272727 1.         0.19318182\n",
      "  0.25      ]\n",
      " [0.58585859 0.56565657 0.38383838 0.80808081 0.33333333 0.17171717\n",
      "  0.02020202 0.09090909 0.8989899  0.17171717 0.37373737 0.78787879\n",
      "  1.        ]\n",
      " [0.2173913  0.14130435 0.86956522 0.67391304 0.06521739 0.7173913\n",
      "  0.76086957 0.40217391 0.2173913  0.58695652 1.         0.66304348\n",
      "  0.11956522]\n",
      " [0.03030303 0.75757576 0.2020202  0.03030303 0.76767677 0.66666667\n",
      "  0.42424242 0.11111111 0.86868687 0.72727273 0.74747475 0.62626263\n",
      "  1.        ]\n",
      " [0.16494845 0.77319588 1.         0.55670103 0.81443299 0.65979381\n",
      "  0.92783505 0.97938144 0.06185567 0.26804124 0.08247423 0.86597938\n",
      "  0.37113402]\n",
      " [0.74226804 0.3814433  0.78350515 0.34020619 0.83505155 0.7628866\n",
      "  0.39175258 0.36082474 0.95876289 0.92783505 0.79381443 0.15463918\n",
      "  1.        ]\n",
      " [0.13402062 1.         0.70103093 0.13402062 0.80412371 0.29896907\n",
      "  0.64948454 0.03092784 0.27835052 0.92783505 0.50515464 0.10309278\n",
      "  0.12371134]\n",
      " [0.38202247 0.56179775 0.7752809  0.02247191 0.2247191  1.\n",
      "  0.83146067 0.87640449 0.64044944 0.95505618 0.70786517 0.33707865\n",
      "  0.70786517]]\n"
     ]
    }
   ],
   "source": [
    "matriz_a = np.random.randint(1, 100, size=(12, 13)) # gerando uma matriz de tamanho 12x13 com números aleatórios entre 1 e 100\n",
    "matriz_a = matriz_a.astype(float) # convertendo todos os valores da matriz para float\n",
    "\n",
    "print(f'Matriz Original: \\n{matriz_a}\\n{\"-\" * 20}')\n",
    "\n",
    "for i in range(matriz_a.shape[0]):\n",
    "    maior = matriz_a[i, 0]\n",
    "    for j in range(1, matriz_a.shape[1]):\n",
    "        if matriz_a[i,j] > maior:\n",
    "            maior = matriz_a[i,j]\n",
    "    \n",
    "    for j in range(matriz_a.shape[1]):\n",
    "        matriz_a[i,j] = matriz_a[i,j] / maior\n",
    "\n",
    "print(f'Matriz Modificada: \\n{matriz_a}')\n",
    "            \n"
   ]
  },
  {
   "cell_type": "markdown",
   "metadata": {},
   "source": [
    "7. Ler um vetor G de 13 elementos que contenha o gabarito da loteria esportiva codificado da seguinte forma: 1-coluna um, 2-coluna do meio, 3-coluna dois."
   ]
  },
  {
   "cell_type": "markdown",
   "metadata": {},
   "source": [
    "8. Logo após, ler uma matriz 13 x 3 que contenha a aposta de um jogador. Considere que cada posição da matriz armazenará o valor 1 se for apostado, 0 caso contrário. Calcular e escrever o número de pontos obtidos pelo jogador. Escrever também o número de apostas simples, dupla ou tripla utilizadas pelo apostador."
   ]
  },
  {
   "cell_type": "code",
   "execution_count": 6,
   "metadata": {},
   "outputs": [
    {
     "name": "stdout",
     "output_type": "stream",
     "text": [
      "\n",
      "Pontos: 7\n",
      "Apostas simples: 10\n",
      "Apostas duplas: 2\n",
      "Apostas triplas: 1\n"
     ]
    }
   ],
   "source": [
    "g = [2, 1, 2, 3, 3, 1, 1, 2, 1, 2, 3, 1, 2]\n",
    "\n",
    "matriz = np.array([\n",
    "    [1, 0, 0],\n",
    "    [1, 1, 0],\n",
    "    [0, 0, 1],\n",
    "    [0, 1, 0],\n",
    "    [0, 0, 1],\n",
    "    [1, 1, 0],\n",
    "    [1, 0, 0],\n",
    "    [0, 0, 1],\n",
    "    [1, 0, 0],\n",
    "    [0, 1, 0],\n",
    "    [1, 0, 0],\n",
    "    [0, 1, 0],\n",
    "    [1, 1, 1]\n",
    "])\n",
    "\n",
    "pontos = 0\n",
    "simples = 0\n",
    "duplas = 0\n",
    "triplas = 0\n",
    "\n",
    "for i in range(len(g)):\n",
    "    for j in range(3): # acessando as três colunas\n",
    "        if matriz[i,j] == 1 and g[i] == (j+1):\n",
    "            pontos += 1\n",
    "            \n",
    "for a in matriz:\n",
    "    soma_a = sum(a)\n",
    "    if soma_a == 1:\n",
    "        simples += 1\n",
    "    elif soma_a == 2:\n",
    "        duplas += 1\n",
    "    elif soma_a == 3:\n",
    "        triplas += 1\n",
    "        \n",
    "print(f'\\nPontos: {pontos}\\nApostas simples: {simples}\\nApostas duplas: {duplas}\\nApostas triplas: {triplas}')"
   ]
  }
 ],
 "metadata": {
  "kernelspec": {
   "display_name": "Python 3",
   "language": "python",
   "name": "python3"
  },
  "language_info": {
   "codemirror_mode": {
    "name": "ipython",
    "version": 3
   },
   "file_extension": ".py",
   "mimetype": "text/x-python",
   "name": "python",
   "nbconvert_exporter": "python",
   "pygments_lexer": "ipython3",
   "version": "3.11.5"
  }
 },
 "nbformat": 4,
 "nbformat_minor": 2
}
