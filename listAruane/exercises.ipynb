{
 "cells": [
  {
   "cell_type": "markdown",
   "metadata": {},
   "source": [
    "### Lista de Exercícios Python "
   ]
  },
  {
   "cell_type": "code",
   "execution_count": 1,
   "metadata": {},
   "outputs": [],
   "source": [
    "import numpy as np"
   ]
  },
  {
   "cell_type": "markdown",
   "metadata": {},
   "source": [
    "1. Crie uma matriz 2x2 e exiba seus elementos em formato de matriz."
   ]
  },
  {
   "cell_type": "code",
   "execution_count": 2,
   "metadata": {},
   "outputs": [
    {
     "name": "stdout",
     "output_type": "stream",
     "text": [
      "[[1 2]\n",
      " [3 4]]\n"
     ]
    }
   ],
   "source": [
    "matriz = np.array([\n",
    "    [1,2],\n",
    "    [3,4]\n",
    "])\n",
    "\n",
    "print(matriz)"
   ]
  },
  {
   "cell_type": "markdown",
   "metadata": {},
   "source": [
    "2. Solicite ao usuário que insira os elementos de uma matriz 3x3 e exiba a matriz formatada."
   ]
  },
  {
   "cell_type": "code",
   "execution_count": 3,
   "metadata": {},
   "outputs": [
    {
     "name": "stdout",
     "output_type": "stream",
     "text": [
      "---Crie uma matriz 3x3---\n",
      "\n",
      "Matriz 3x3:\n",
      "[[ 2  3  4]\n",
      " [ 5  6  7]\n",
      " [ 8  9 10]]\n"
     ]
    }
   ],
   "source": [
    "print('---Crie uma matriz 3x3---')\n",
    "values = []\n",
    "for i in range(9):\n",
    "    value = int(input(f'Digite um valor para o elemento {i+1}: '))\n",
    "    values.append(value)\n",
    "\n",
    "matriz = np.array(values).reshape(3,3)\n",
    "\n",
    "print(f'\\nMatriz 3x3:\\n{matriz}')"
   ]
  },
  {
   "cell_type": "markdown",
   "metadata": {},
   "source": [
    "3. Peça ao usuário que insira duas matrizes 2x2 e exiba a matriz resultante da soma das duas."
   ]
  },
  {
   "cell_type": "code",
   "execution_count": null,
   "metadata": {},
   "outputs": [
    {
     "name": "stdout",
     "output_type": "stream",
     "text": [
      "Informe os valores da primeira matriz: \n",
      "Informe os valores da segunda matriz: \n",
      "\n",
      "Primeira Matriz:\n",
      "[[2 4]\n",
      " [6 8]]\n",
      "Segunda Matriz:\n",
      "[[ 3  6]\n",
      " [ 9 12]]\n",
      "Soma das Matrizes:\n",
      "[[ 5 10]\n",
      " [15 20]]\n"
     ]
    }
   ],
   "source": [
    "def solicita_matriz():\n",
    "    matriz = []\n",
    "    for i in range(2):\n",
    "        linha = []\n",
    "        for j in range(2):\n",
    "            value = int(input(f'Digite o valor da posição [{i+1}, {j+1}]: '))\n",
    "            linha.append(value)\n",
    "        matriz.append(linha)\n",
    "    return np.array(matriz)\n",
    "\n",
    "print('Informe os valores da primeira matriz: ')\n",
    "matriz1 = solicita_matriz()\n",
    "\n",
    "print('Informe os valores da segunda matriz: ')\n",
    "matriz2 = solicita_matriz()\n",
    "\n",
    "soma_matrizes = matriz1 + matriz2\n",
    "\n",
    "print(f'\\nPrimeira Matriz:\\n{matriz1}\\nSegunda Matriz:\\n{matriz2}')\n",
    "print(f'\\nSoma das Matrizes:\\n{soma_matrizes}')"
   ]
  },
  {
   "cell_type": "markdown",
   "metadata": {},
   "source": [
    "4. Crie uma função que receba um número e retorne o dobro dele. "
   ]
  },
  {
   "cell_type": "code",
   "execution_count": 1,
   "metadata": {},
   "outputs": [
    {
     "data": {
      "text/plain": [
       "44.0"
      ]
     },
     "execution_count": 1,
     "metadata": {},
     "output_type": "execute_result"
    }
   ],
   "source": [
    "def dobro(n):\n",
    "    return n * 2\n",
    "\n",
    "n = float(input('Informe um número: '))\n",
    "dobro(n)"
   ]
  },
  {
   "cell_type": "markdown",
   "metadata": {},
   "source": [
    "5. Crie uma função que receba um número e informe se ele é par ou ímpar."
   ]
  },
  {
   "cell_type": "code",
   "execution_count": null,
   "metadata": {},
   "outputs": [
    {
     "name": "stdout",
     "output_type": "stream",
     "text": [
      "O valor 23.0 é ímpar\n"
     ]
    }
   ],
   "source": [
    "def impar_par(n):\n",
    "    if n%2 == 0:\n",
    "        return 'par'\n",
    "    return 'ímpar'\n",
    "\n",
    "n = float(input('Informe um número: '))\n",
    "result = impar_par(n)\n",
    "\n",
    "print(f'O valor {n} é {result}')"
   ]
  },
  {
   "cell_type": "markdown",
   "metadata": {},
   "source": [
    "6. Crie uma função que receba uma lista de números e retorne a soma de todos  os números ímpares da lista."
   ]
  },
  {
   "cell_type": "code",
   "execution_count": 11,
   "metadata": {},
   "outputs": [
    {
     "name": "stdout",
     "output_type": "stream",
     "text": [
      "Resultado da soma de [13.0, 47.0, 33.0, 77.0]: 170.0\n"
     ]
    }
   ],
   "source": [
    "def soma_impar(list):\n",
    "    impares = []\n",
    "    for i in list:\n",
    "        if i%2 != 0:\n",
    "            impares.append(i)\n",
    "        \n",
    "    soma = sum(impares)\n",
    "    return soma, impares\n",
    "\n",
    "valores = input('Informe uma lista de números separados por vírgula: ')\n",
    "lista = list(map(float, valores.split(',')))\n",
    "\n",
    "soma, impares = soma_impar(lista)\n",
    "print(f'Resultado da soma de {impares}: {soma}')"
   ]
  },
  {
   "cell_type": "markdown",
   "metadata": {},
   "source": [
    "7. Peça ao usuário para inserir um número e calcule sua raiz quadrada usando a biblioteca math. "
   ]
  },
  {
   "cell_type": "code",
   "execution_count": null,
   "metadata": {},
   "outputs": [
    {
     "name": "stdout",
     "output_type": "stream",
     "text": [
      "A raíz quadrada de 12.0 é: 3.464\n"
     ]
    }
   ],
   "source": [
    "import math \n",
    "\n",
    "valor = float(input('Informe um número: '))\n",
    "raiz = math.sqrt(valor)\n",
    "\n",
    "print(f'A raíz quadrada de {valor} é: {round(raiz, 3)}')"
   ]
  },
  {
   "cell_type": "markdown",
   "metadata": {},
   "source": [
    "8. Peça ao usuário para inserir uma data no formato dd/mm/aaaa e exiba o dia da semana correspondente."
   ]
  },
  {
   "cell_type": "code",
   "execution_count": 30,
   "metadata": {},
   "outputs": [
    {
     "name": "stdout",
     "output_type": "stream",
     "text": [
      "19/07/2006: Wednesday\n"
     ]
    }
   ],
   "source": [
    "import datetime\n",
    "\n",
    "data_input = input('Informe uma data (dd/mm/aaaa): ')\n",
    "# convertendo a string para um objeto de data\n",
    "data = datetime.datetime.strptime(data_input, \"%d/%m/%Y\")\n",
    "# função usada para obter o dia da semana correspondente a data fornecida\n",
    "dia_semana = data.strftime('%A')\n",
    "\n",
    "print(f'{data.strftime(\"%d/%m/%Y\")}: {dia_semana}')"
   ]
  },
  {
   "cell_type": "markdown",
   "metadata": {},
   "source": [
    "9. Solicite ao usuário um número e exiba um valor aleatório entre 1 e esse número."
   ]
  },
  {
   "cell_type": "code",
   "execution_count": 35,
   "metadata": {},
   "outputs": [
    {
     "name": "stdout",
     "output_type": "stream",
     "text": [
      "Número aleatório entre 1 e 67.0: 55\n"
     ]
    }
   ],
   "source": [
    "import random\n",
    "\n",
    "n = float(input('Informe um número: '))\n",
    "\n",
    "n_aleatorio = random.randint(1, n)\n",
    "\n",
    "print(f'Número aleatório entre 1 e {n}: {n_aleatorio}')"
   ]
  },
  {
   "cell_type": "markdown",
   "metadata": {},
   "source": [
    "10. Use o módulo random para gerar uma lista com 5 números aleatórios entre 1 e 100 e exibi-los. "
   ]
  },
  {
   "cell_type": "code",
   "execution_count": 41,
   "metadata": {},
   "outputs": [
    {
     "name": "stdout",
     "output_type": "stream",
     "text": [
      "Números aleatórios: [47, 15, 98, 20, 34]\n"
     ]
    }
   ],
   "source": [
    "import random \n",
    "\n",
    "n_aleatorios = []\n",
    "for i in range(5):\n",
    "    n = random.randint(1, 100)\n",
    "    n_aleatorios.append(n)\n",
    "\n",
    "print(f'Números aleatórios: {n_aleatorios}')"
   ]
  },
  {
   "cell_type": "markdown",
   "metadata": {},
   "source": [
    "11. Simule o lançamento de um dado (números de 1 a 6) e exiba o resultado após uma pausa de 2 segundos."
   ]
  },
  {
   "cell_type": "code",
   "execution_count": 43,
   "metadata": {},
   "outputs": [
    {
     "name": "stdout",
     "output_type": "stream",
     "text": [
      "Lançando dado...\n",
      "Resultado do lançamento do dado: 3\n"
     ]
    }
   ],
   "source": [
    "import time\n",
    "\n",
    "print('Lançando dado...')\n",
    "result = random.randint(1, 6)\n",
    "time.sleep(2)\n",
    "\n",
    "print(f'Resultado do lançamento do dado: {result}')"
   ]
  },
  {
   "cell_type": "markdown",
   "metadata": {},
   "source": [
    "12. Crie um programa que crie e escreva a frase \"Python é incrível!\" em um arquivo chamado texto.txt. "
   ]
  },
  {
   "cell_type": "code",
   "execution_count": 45,
   "metadata": {},
   "outputs": [
    {
     "name": "stdout",
     "output_type": "stream",
     "text": [
      "Arquivo registrado com sucesso!\n"
     ]
    }
   ],
   "source": [
    "with open('texto.txt', 'w', encoding='utf-8') as file:\n",
    "    file.write(\"Python é incrível!\")\n",
    "\n",
    "print('Arquivo registrado com sucesso!')"
   ]
  },
  {
   "cell_type": "markdown",
   "metadata": {},
   "source": [
    "13. Crie um programa que leia o arquivo texto.txt e exiba o conteúdo na tela. "
   ]
  },
  {
   "cell_type": "code",
   "execution_count": 52,
   "metadata": {},
   "outputs": [
    {
     "name": "stdout",
     "output_type": "stream",
     "text": [
      "Python é incrível!\n"
     ]
    }
   ],
   "source": [
    "with open ('texto.txt', 'r', encoding='utf-8') as file:\n",
    "    content = file.read()\n",
    "\n",
    "print(content)"
   ]
  },
  {
   "cell_type": "markdown",
   "metadata": {},
   "source": [
    "14. Peça ao usuário para inserir um nome e um telefone e armazene-os em um arquivo chamado contatos.txt. "
   ]
  },
  {
   "cell_type": "code",
   "execution_count": 54,
   "metadata": {},
   "outputs": [
    {
     "name": "stdout",
     "output_type": "stream",
     "text": [
      "Contato registrado com sucesso!\n"
     ]
    }
   ],
   "source": [
    "nome = input('Informe um nome: ')\n",
    "tel = input('Informe o telefone: ')\n",
    "\n",
    "with open ('contatos.txt', 'w', encoding='utf-8') as file:\n",
    "    file.write(f'{nome}: {tel}')\n",
    "\n",
    "print('Contato registrado com sucesso!')"
   ]
  },
  {
   "cell_type": "markdown",
   "metadata": {},
   "source": [
    "15. Solicite ao usuário um número e tente dividir 100 por ele, tratando o erro caso seja digitado zero."
   ]
  },
  {
   "cell_type": "code",
   "execution_count": 66,
   "metadata": {},
   "outputs": [
    {
     "name": "stdout",
     "output_type": "stream",
     "text": [
      "O resultado de 100/35.0 é: 2.86\n"
     ]
    }
   ],
   "source": [
    "try:\n",
    "    n = float(input('Informe um número: '))\n",
    "    result = 100 / n\n",
    "\n",
    "    print(f'O resultado de 100/{n} é: {round(result, 2)}')\n",
    "except ZeroDivisionError:\n",
    "    print('Erro: Não é possível dividir por zero!')\n",
    "except ValueError:\n",
    "    print('Erro: Informe um número válido!')"
   ]
  },
  {
   "cell_type": "markdown",
   "metadata": {},
   "source": [
    "16. Peça ao usuário para inserir um número e trate possíveis erros de entrada (como digitar uma letra no lugar do número). "
   ]
  },
  {
   "cell_type": "code",
   "execution_count": 70,
   "metadata": {},
   "outputs": [
    {
     "name": "stdout",
     "output_type": "stream",
     "text": [
      "Erro: Você não digitou um número válido!\n",
      "Erro: Você não digitou um número válido!\n",
      "Número informado: 19.0\n"
     ]
    }
   ],
   "source": [
    "while True:\n",
    "    try:\n",
    "        n = float(input('Informe um número positivo: '))\n",
    "\n",
    "        if n <= 0:\n",
    "            print('Erro: O número deve ser positivo! Tente novamente.')\n",
    "            continue\n",
    "\n",
    "        print(f'Número informado: {n}')\n",
    "        break \n",
    "\n",
    "    except ValueError:\n",
    "        print('Erro: Você não digitou um número válido!')"
   ]
  },
  {
   "cell_type": "markdown",
   "metadata": {},
   "source": [
    "17. Solicite ao usuário um número inteiro e trate o erro caso ele tente inserir um  valor não numérico. Se a entrada for válida, exiba o quadrado do número."
   ]
  },
  {
   "cell_type": "code",
   "execution_count": 75,
   "metadata": {},
   "outputs": [
    {
     "name": "stdout",
     "output_type": "stream",
     "text": [
      "Erro: Você não digitou um número inteiro válido! Tente novamente.\n",
      "Erro: Você não digitou um número inteiro válido! Tente novamente.\n",
      "O quadrado de 22 é 484.\n"
     ]
    }
   ],
   "source": [
    "while True:\n",
    "    try:\n",
    "        n = int(input(\"Digite um número inteiro: \"))\n",
    "        \n",
    "        quadrado = n ** 2\n",
    "        \n",
    "        print(f\"O quadrado de {n} é {quadrado}.\")\n",
    "        break\n",
    "    \n",
    "    except ValueError:\n",
    "        print(\"Erro: Você não digitou um número inteiro válido! Tente novamente.\")"
   ]
  }
 ],
 "metadata": {
  "kernelspec": {
   "display_name": "Python 3",
   "language": "python",
   "name": "python3"
  },
  "language_info": {
   "codemirror_mode": {
    "name": "ipython",
    "version": 3
   },
   "file_extension": ".py",
   "mimetype": "text/x-python",
   "name": "python",
   "nbconvert_exporter": "python",
   "pygments_lexer": "ipython3",
   "version": "3.11.5"
  }
 },
 "nbformat": 4,
 "nbformat_minor": 2
}
